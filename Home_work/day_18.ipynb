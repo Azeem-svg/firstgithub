{
 "cells": [
  {
   "cell_type": "markdown",
   "metadata": {},
   "source": [
    "# statistical tests in python"
   ]
  },
  {
   "cell_type": "markdown",
   "metadata": {},
   "source": [
    "# Shapiro Wilk Test\n",
    "- Tests whether a data has a gaussian distributions\n",
    "  ##**Assumptions**\n",
    "  1. Observations in each sample are independent and identically distributed (iid)\n",
    "  2. Interpretation\n",
    "   - HO sample has a gaussian normal distribution (null hypothesis)\n",
    "   - H1 the sample does not have gaussian normal distribution (alternative hypothesis)"
   ]
  },
  {
   "cell_type": "code",
   "execution_count": 6,
   "metadata": {},
   "outputs": [],
   "source": [
    "import pandas as pd\n",
    "import numpy as np\n",
    "import seaborn as sns \n",
    "import matplotlib.pyplot as plt"
   ]
  },
  {
   "cell_type": "code",
   "execution_count": 5,
   "metadata": {},
   "outputs": [
    {
     "data": {
      "text/plain": [
       "ShapiroResult(statistic=0.8951009511947632, pvalue=0.19340917468070984)"
      ]
     },
     "execution_count": 5,
     "metadata": {},
     "output_type": "execute_result"
    }
   ],
   "source": [
    "# ks= sns.load_dataset('titanic')  ### for practice\n",
    "from scipy.stats import shapiro\n",
    "data= [0.873, 2.817, 0.121, -0.945, -0.055, -1.436, 0.360, -1.478, -1.637, -1.869] #list\n",
    "shapiro(data)    # pvalue results rejects null hypothesis\n"
   ]
  },
  {
   "cell_type": "code",
   "execution_count": 11,
   "metadata": {},
   "outputs": [
    {
     "name": "stdout",
     "output_type": "stream",
     "text": [
      "stat= 0.8951009511947632\n",
      "p= 0.19340917468070984\n"
     ]
    }
   ],
   "source": [
    "## if we add shapiro test we can directly see p value\n",
    "from scipy.stats import shapiro\n",
    "data= [0.873, 2.817, 0.121, -0.945, -0.055, -1.436, 0.360, -1.478, -1.637, -1.869] #list\n",
    "stat,p = shapiro(data)\n",
    "# print(stat)  \n",
    "## to print any string we can use \n",
    "print('stat=', stat)\n",
    "## to print any string we can use \n",
    "print('p=', p)\n",
    "# print(p)"
   ]
  },
  {
   "cell_type": "code",
   "execution_count": 12,
   "metadata": {},
   "outputs": [
    {
     "name": "stdout",
     "output_type": "stream",
     "text": [
      "stat=0.895, p=0.193\n"
     ]
    }
   ],
   "source": [
    "# mushkil tareen statement methods to view\n",
    "print('stat=%.3f, p=%.3f' % (stat,p))     # just like respectively"
   ]
  },
  {
   "cell_type": "code",
   "execution_count": 14,
   "metadata": {},
   "outputs": [
    {
     "name": "stdout",
     "output_type": "stream",
     "text": [
      "data is normal\n"
     ]
    }
   ],
   "source": [
    "# can use different statement according to our need\n",
    "if p > 0.05:\n",
    "    print('data is normal')\n",
    "else:\n",
    "    print('data is not normal') # if p value is less than 0.5 than data is not normal"
   ]
  },
  {
   "cell_type": "code",
   "execution_count": null,
   "metadata": {},
   "outputs": [],
   "source": [
    "# example of the shpairo-wilk normality test (sorce code)\n",
    "# from scipy.stats import shapiro\n",
    "# data= [0.873, 2.817, 0.121, -0.945, -0.055, -1.436, 0.360, -1.478, -1.637, -1.869] #list\n",
    "# stat,p = shapiro(data)\n",
    "# print('stat=%.3f, p=%.3f' % (stat,p))\n",
    "# if p > 0.05:\n",
    "#     print('probably gaussian')\n",
    "# else:\n",
    "#     print('probably not gaussain')"
   ]
  },
  {
   "cell_type": "code",
   "execution_count": 20,
   "metadata": {},
   "outputs": [],
   "source": [
    "## loading kashti data set (sorce code)\n",
    "# ks= sns.load_dataset('titanic')\n",
    "# ks['age'].hist()\n",
    "# sns.boxplot(ks['age'])"
   ]
  },
  {
   "cell_type": "code",
   "execution_count": 19,
   "metadata": {},
   "outputs": [
    {
     "data": {
      "text/plain": [
       "<AxesSubplot:>"
      ]
     },
     "execution_count": 19,
     "metadata": {},
     "output_type": "execute_result"
    },
    {
     "data": {
      "image/png": "[encoded data removed]",
      "text/plain": [
       "<Figure size 432x288 with 1 Axes>"
      ]
     },
     "metadata": {
      "needs_background": "light"
     },
     "output_type": "display_data"
    }
   ],
   "source": [
    "ks= sns.load_dataset('titanic') # first histogram\n",
    "ks['age'].hist()"
   ]
  },
  {
   "cell_type": "code",
   "execution_count": 21,
   "metadata": {},
   "outputs": [
    {
     "name": "stderr",
     "output_type": "stream",
     "text": [
      "C:\\Users\\Haier\\AppData\\Local\\Programs\\Python\\Python310\\lib\\site-packages\\seaborn\\_decorators.py:36: FutureWarning: Pass the following variable as a keyword arg: x. From version 0.12, the only valid positional argument will be `data`, and passing other arguments without an explicit keyword will result in an error or misinterpretation.\n",
      "  warnings.warn(\n"
     ]
    },
    {
     "data": {
      "text/plain": [
       "<AxesSubplot:xlabel='age'>"
      ]
     },
     "execution_count": 21,
     "metadata": {},
     "output_type": "execute_result"
    },
    {
     "data": {
      "image/png": "[encoded data removed]",
      "text/plain": [
       "<Figure size 432x288 with 1 Axes>"
      ]
     },
     "metadata": {
      "needs_background": "light"
     },
     "output_type": "display_data"
    }
   ],
   "source": [
    "# making box plot\n",
    "sns.boxplot(ks['age'])# if box plot is tilted on left side than our data is not normal"
   ]
  },
  {
   "cell_type": "code",
   "execution_count": null,
   "metadata": {},
   "outputs": [],
   "source": [
    "## normality test (to make our data normal)  (source code)\n",
    "# from scipy.stats import shapiro\n",
    "# ks = ks.dropna()\n",
    "# stat, p=shapiro(ks['age'])\n",
    "# if p > 0.5:\n",
    "#     print('Probably normally distributed')\n",
    "# else:\n",
    "#     print('Probably not normally distributed')\n"
   ]
  },
  {
   "cell_type": "code",
   "execution_count": 23,
   "metadata": {},
   "outputs": [
    {
     "name": "stdout",
     "output_type": "stream",
     "text": [
      "stat= nan\n",
      "p= 1.0\n",
      "the data is normal\n"
     ]
    }
   ],
   "source": [
    "# example of the shpairo-wilk normality test (sorce code)\n",
    "# adopting above code\n",
    "from scipy.stats import shapiro\n",
    "stat,p = shapiro(ks['age'])\n",
    "print('stat=',stat)\n",
    "print('p=', p)\n",
    "if p > 0.05:\n",
    "    print('the data is normal')\n",
    "else:\n",
    "    print('the data is not normal')"
   ]
  },
  {
   "cell_type": "code",
   "execution_count": 24,
   "metadata": {},
   "outputs": [
    {
     "name": "stdout",
     "output_type": "stream",
     "text": [
      "the data is normal\n"
     ]
    }
   ],
   "source": [
    "# Normality test\n",
    "from scipy.stats import shapiro\n",
    "ks=ks.dropna()\n",
    "sns.boxplot(ks['age'])\n",
    "stat,p = shapiro(ks['age'])\n",
    "if p > 0.05:\n",
    "    print('the data is normal')\n",
    "else:\n",
    "    print('the data is not normal')"
   ]
  },
  {
   "cell_type": "code",
   "execution_count": 25,
   "metadata": {},
   "outputs": [
    {
     "name": "stderr",
     "output_type": "stream",
     "text": [
      "C:\\Users\\Haier\\AppData\\Local\\Programs\\Python\\Python310\\lib\\site-packages\\seaborn\\_decorators.py:36: FutureWarning: Pass the following variable as a keyword arg: x. From version 0.12, the only valid positional argument will be `data`, and passing other arguments without an explicit keyword will result in an error or misinterpretation.\n",
      "  warnings.warn(\n"
     ]
    },
    {
     "data": {
      "text/plain": [
       "<AxesSubplot:xlabel='age'>"
      ]
     },
     "execution_count": 25,
     "metadata": {},
     "output_type": "execute_result"
    },
    {
     "data": {
      "image/png": "[encoded data removed]",
      "text/plain": [
       "<Figure size 432x288 with 1 Axes>"
      ]
     },
     "metadata": {
      "needs_background": "light"
     },
     "output_type": "display_data"
    }
   ],
   "source": [
    "# boxplot after droping na\n",
    "sns.boxplot(ks['age'])"
   ]
  },
  {
   "cell_type": "code",
   "execution_count": 29,
   "metadata": {},
   "outputs": [
    {
     "name": "stdout",
     "output_type": "stream",
     "text": [
      "the data is not normal\n"
     ]
    }
   ],
   "source": [
    "## for fare\n",
    "# Normality test\n",
    "from scipy.stats import shapiro\n",
    "# ks=ks.dropna()\n",
    "# sns.boxplot(ks['fare'])\n",
    "stat,p = shapiro(ks['fare'])\n",
    "if p > 0.05:\n",
    "    print('the data is normal')\n",
    "else:\n",
    "    print('the data is not normal')"
   ]
  },
  {
   "cell_type": "code",
   "execution_count": 31,
   "metadata": {},
   "outputs": [
    {
     "data": {
      "text/plain": [
       "<AxesSubplot:>"
      ]
     },
     "execution_count": 31,
     "metadata": {},
     "output_type": "execute_result"
    },
    {
     "data": {
      "image/png": "[encoded data removed]",
      "text/plain": [
       "<Figure size 432x288 with 1 Axes>"
      ]
     },
     "metadata": {
      "needs_background": "light"
     },
     "output_type": "display_data"
    }
   ],
   "source": [
    "ks['fare'].hist()"
   ]
  },
  {
   "cell_type": "markdown",
   "metadata": {},
   "source": [
    "# 2- Correlation test\n",
    "1. Pearson's Correlation Coefficient\n",
    "   - Tests whether two samples/variables have a linear relationship\n",
    "- **Assumptions**\n",
    "  1. Observations in each sample are independent and identically distributed (iid)\n",
    "  2. observation in each sample are normally distributed\n",
    "  3. oobservation in each sample have the same variance \n",
    "  4. Interpretations\n",
    "   - HO:the two samples are independent.\\ (not related)\n",
    "   - H1:there is dependency in variables  (related)"
   ]
  },
  {
   "cell_type": "code",
   "execution_count": 38,
   "metadata": {},
   "outputs": [
    {
     "name": "stdout",
     "output_type": "stream",
     "text": [
      "stat=0.688, p=0.028\n",
      "Probably dependent\n"
     ]
    }
   ],
   "source": [
    "# # Example of the Pearson's Correlation test (source code)\n",
    "from scipy.stats import pearsonr\n",
    "data1 = [0.873, 2.817, 0.121, -0.945, -0.055, -1.436, 0.360, -1.478, -1.637, -1.869]\n",
    "data2 = [0.353, 3.517, 0.125, -7.545, -0.555, -1.536, 3.350, -1.578, -3.537, -1.579]\n",
    "stat, p = pearsonr(data1, data2)\n",
    "print('stat=%.3f, p=%.3f' % (stat, p))  ## don't use this mushkil wali command\n",
    "if p > 0.05:\n",
    "  print('Probably independent')\n",
    "else:\n",
    "  print('Probably dependent')"
   ]
  },
  {
   "cell_type": "markdown",
   "metadata": {},
   "source": [
    "2. Spearson's Rank Correlation test  (non parametric analysis)\n",
    "   - Tests whether two samples/variables have a monotonic relationship\n",
    "- **Assumptions**\n",
    "  1. Observations in each sample are independent and identically distributed (iid)\n",
    "  1. oobservation can be ranked \n",
    "  2. Interpretations\n",
    "   - HO:the two samples are independent.\\ (not related)\n",
    "   - H1:there is dependency in variables  (related)"
   ]
  },
  {
   "cell_type": "code",
   "execution_count": 43,
   "metadata": {},
   "outputs": [
    {
     "name": "stdout",
     "output_type": "stream",
     "text": [
      "stat=0.855, p=0.002\n",
      "Probably dependent(correlation exists\n"
     ]
    }
   ],
   "source": [
    "#examples of spears man correlation test\n",
    "from scipy.stats import spearmanr\n",
    "data1 = [0.873, 2.817, 0.121, -0.945, -0.055, -1.436, 0.360, -1.478, -1.637, -1.869]\n",
    "data2 = [0.353, 3.517, 0.125, -7.545, -0.555, -1.536, 3.350, -1.578, -3.537, -1.579]\n",
    "stat, p = spearmanr(data1, data2)\n",
    "# stat, p = spearmanr(ks['age] , ks['fare])  ## to adopt\n",
    "print('stat=%.3f, p=%.3f' % (stat, p))  ## don't use this mushkil wali command\n",
    "if p > 0.05:\n",
    "  print('Probably independent(no correlation')\n",
    "else:\n",
    "  print('Probably dependent(correlation exists')"
   ]
  },
  {
   "cell_type": "markdown",
   "metadata": {},
   "source": [
    "#3- Chi squared test\n",
    "- test whether two categorical variables are related or independent\n",
    "- **Assumptions**\n",
    "- observations used in calculations of contingency table are independent.25 or more examples in each cell of the contigency table.\n",
    "- interpretations\n",
    "        - HO: the two samples are independent\n",
    "        - H1: there is dependency between the samples"
   ]
  },
  {
   "cell_type": "code",
   "execution_count": 44,
   "metadata": {},
   "outputs": [
    {
     "name": "stdout",
     "output_type": "stream",
     "text": [
      "0.27157465150403504\n",
      "0.873028283380073\n",
      "Probably independent\n"
     ]
    }
   ],
   "source": [
    "# examples of chi squared test\n",
    "from scipy.stats import chi2_contingency\n",
    "table = [[10,20,30], [6,9,17]]\n",
    "stat,p,dof,expected=chi2_contingency(table)\n",
    "# print('stat=', stat)\n",
    "print(stat) \n",
    "print(p)\n",
    "if p > 0.05:\n",
    "  print('Probably independent')\n",
    "else:\n",
    "  print('Probably dependent')\n"
   ]
  },
  {
   "cell_type": "markdown",
   "metadata": {},
   "source": [
    "# 3- Parametric Statistical Hypothesis tests\n",
    "1.student's t test\n",
    "- tests whether the means of two independent variables are significantly different\n",
    "- **Assumptions**\n",
    "- 1. Observations in each sample are independent and identically distributed (iid)\n",
    "  2. observation in each sample are normally distributed\n",
    "  3. oobservation in each sample have the same variance \n",
    "  4. Interpretations\n",
    "   - HO:the means of samples are equal\n",
    "   - H1:the means of samples are not/ unequal\n",
    "- "
   ]
  },
  {
   "cell_type": "code",
   "execution_count": 45,
   "metadata": {},
   "outputs": [
    {
     "name": "stdout",
     "output_type": "stream",
     "text": [
      "stat=-0.326, p=0.748\n",
      "Probably the same dataset\n"
     ]
    }
   ],
   "source": [
    "# Example of the Student's t-test\n",
    "from scipy.stats import ttest_ind\n",
    "data1 = [0.873, 2.817, 0.121, -0.945, -0.055, -1.436, 0.360, -1.478, -1.637, -1.869]\n",
    "data2 = [1.142, -0.432, -0.938, -0.729, -0.846, -0.157, 0.500, 1.183, -1.075, -0.169]\n",
    "stat, p = ttest_ind(data1, data2)\n",
    "print('stat=%.3f, p=%.3f' % (stat, p))\n",
    "if p > 0.05:\n",
    "  print('Probably the same dataset')\n",
    "else:\n",
    "  print('Probably different data set')"
   ]
  },
  {
   "cell_type": "markdown",
   "metadata": {},
   "source": [
    "2. Paired student's t test\n",
    "- tests whether the means of two paired samples are significantly equal \n",
    "- **Assumptions**\n",
    "- 1. Observations in each sample are independent and identically distributed (iid)\n",
    "  2. observation in each sample are normally distributed\n",
    "  3. oobservation in each sample have the same variance \n",
    "  4. observations acrosseach sample are paired\n",
    "  5. Interpretations\n",
    "   - HO:the means of samples are equal\n",
    "   - H1:the means of samples are not/ unequal"
   ]
  },
  {
   "cell_type": "code",
   "execution_count": 46,
   "metadata": {},
   "outputs": [
    {
     "name": "stdout",
     "output_type": "stream",
     "text": [
      "stat=-0.334, p=0.746\n",
      "Probably the same distribution\n"
     ]
    }
   ],
   "source": [
    "# Example of the Paired Student's t-test\n",
    "from scipy.stats import ttest_rel\n",
    "data1 = [0.873, 2.817, 0.121, -0.945, -0.055, -1.436, 0.360, -1.478, -1.637, -1.869]\n",
    "data2 = [1.142, -0.432, -0.938, -0.729, -0.846, -0.157, 0.500, 1.183, -1.075, -0.169]\n",
    "stat, p = ttest_rel(data1, data2)\n",
    "print('stat=%.3f, p=%.3f' % (stat, p))\n",
    "if p > 0.05:\n",
    "  print('Probably the same distribution')\n",
    "else:\n",
    "  print('Probably different distributions')"
   ]
  },
  {
   "cell_type": "markdown",
   "metadata": {},
   "source": [
    "# 4. Analysis of Variance ANOVA\n",
    "- tests whether the means of two or more independent samples are significantly different\n",
    "- ** Assumptions**\n",
    "  1. Observations in each sample are independent and identically distributed (iid)\n",
    "  2. observation in each sample are normally distributed\n",
    "  3. oobservation in each sample have the same variance \n",
    "  4. Interpretations\n",
    "   - HO:the means of samples are equal\n",
    "   - H1:one or more means of samples are not/ unequal"
   ]
  },
  {
   "cell_type": "code",
   "execution_count": 49,
   "metadata": {},
   "outputs": [
    {
     "name": "stdout",
     "output_type": "stream",
     "text": [
      "0.09641783499925058\n",
      "0.9083957433926546\n",
      "Probably the same distribution\n"
     ]
    }
   ],
   "source": [
    "# Example of the \\ANOVA\n",
    "from scipy.stats import f_oneway\n",
    "data1 = [0.873, 2.817, 0.121, -0.945, -0.055, -1.436, 0.360, -1.478, -1.637, -1.869]\n",
    "data2 = [1.142, -0.432, -0.938, -0.729, -0.846, -0.157, 0.500, 1.183, -1.075, -0.169]\n",
    "data3 =  [-0.208,0.696,0.928,-1.148,-0.213,0.229,0.137,0.269,-0.870,-1.204]\n",
    "stat, p = f_oneway (data1, data2, data3)\n",
    "# print('stat=%.3f, p=%.3f' % (stat, p))\n",
    "print(stat) \n",
    "print(p)\n",
    "if p > 0.05:\n",
    "  print('Probably the same distribution')\n",
    "else:\n",
    "  print('Probably different distribution')"
   ]
  }
 ],
 "metadata": {
  "interpreter": {
   "hash": "b7d95939eae62cdea6b739d07bb236281dd0d7119eb266cc14aa0a0fe5f4b3f2"
  },
  "kernelspec": {
   "display_name": "Python 3.10.1 64-bit",
   "language": "python",
   "name": "python3"
  },
  "language_info": {
   "codemirror_mode": {
    "name": "ipython",
    "version": 3
   },
   "file_extension": ".py",
   "mimetype": "text/x-python",
   "name": "python",
   "nbconvert_exporter": "python",
   "pygments_lexer": "ipython3",
   "version": "3.10.1"
  },
  "orig_nbformat": 4
 },
 "nbformat": 4,
 "nbformat_minor": 2
}
