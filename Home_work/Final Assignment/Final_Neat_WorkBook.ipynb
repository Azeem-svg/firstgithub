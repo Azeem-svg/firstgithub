{
 "cells": [
  {
   "cell_type": "markdown",
   "id": "cdae3f3a",
   "metadata": {},
   "source": [
    "# BASICS (Before Starting Chilla)"
   ]
  },
  {
   "cell_type": "code",
   "execution_count": null,
   "id": "a72e6fbe",
   "metadata": {},
   "outputs": [],
   "source": [
    "# First Lines of Code\n",
    "print(2+3)\n",
    "print(\"hello world\")\n",
    "print(\"we are lreaning python with ammar\")"
   ]
  },
  {
   "cell_type": "markdown",
   "id": "16d5328c",
   "metadata": {},
   "source": [
    "# 02_operators\n",
    "- spaces are meaningless in operators\n",
    "- sequences of operators run will always be like (pemdas (parenthesis exponents multiply divide addition subtraction)\n",
    "- (sequence will be left to right mdas)\n",
    "   print(2+3)\n",
    "   print(3-1)\n",
    "    print(6/2)\n",
    "    print(2*3)\n",
    "    print(13%2)\n",
    "    print(6//2)\n",
    "    for powers\n",
    "    print(2**3)\n",
    "    print(3**2/2*3/3+6-4)"
   ]
  },
  {
   "cell_type": "markdown",
   "id": "ab96ade5",
   "metadata": {},
   "source": [
    "# 03_Strings\n",
    "- # any text in excel (single/double commas or 3 qutation marks are strings)\n",
    "    #print(\"hello world\")\n",
    "    #print(\"we are lreaning python with ammar\")\n",
    "    #print('test for single quotes')\n",
    "    #print(\"test for double quotes\")\n",
    "    #print('''test for triple quotes''') \n",
    "\n",
    "    print(\"  what's up  ?\")"
   ]
  },
  {
   "cell_type": "markdown",
   "id": "aa55e11a",
   "metadata": {},
   "source": [
    "# 04_Comments\n",
    "  -  print(\"how are you?\") #ctrl+/ to comment out\n",
    "  -  print (\"we are learning python with ammar\")\n",
    "  -  print(2+6) #dggf"
   ]
  },
  {
   "cell_type": "markdown",
   "id": "aaf52422",
   "metadata": {},
   "source": [
    "# 05_ variables\n",
    " - variables are objects containig specific values\n",
    " - x=5 #numeric variable\n",
    " - print(x)\n",
    " - y=\"we are learning pyton drtuui\" #string variable\n",
    " - print(y)\n",
    " - x=123\n",
    " -print(x)\n",
    "    # x=x+123+67\n",
    "    # print(x)\n",
    "    # # types of variables\n",
    "    # type(x)\n",
    "    # print(type(x))\n",
    "    # print(type(y))\n",
    "## rules to assign  a variable or a object in a variables\n",
    " - 1= variable should contain letters numbers or underscores\n",
    "- 2=do not start with numbers (ex=2y)\n",
    "- spaces are not allowed\n",
    "- do not use python a key word in function (help google \"key words in python\")\n",
    "- short and descriptive variable names \n",
    "- case sensitivity (lower and upper case) always use lower case leters\n",
    "    fruit_basket=8\n",
    "    fruit_basket=\"mangoes\"\n",
    "- del fruit_basket to delete something\n",
    "    print(type(fruit_basket))\n",
    "    print(fruit_basket)"
   ]
  },
  {
   "cell_type": "markdown",
   "id": "01a7a93e",
   "metadata": {},
   "source": [
    "# 06_input_variables\n",
    "- input function using 3 ways"
   ]
  },
  {
   "cell_type": "code",
   "execution_count": null,
   "id": "5337268f",
   "metadata": {},
   "outputs": [],
   "source": [
    "fruit_basket=\"mangoes\"\n",
    "print(fruit_basket)\n",
    "\n",
    "# input function\n",
    "\n",
    "fruit_basket=input(\"which is your fruit\")\n",
    "print(fruit_basket)\n",
    "input fntion 2nd stage\n",
    "name=input(\"what is your name\")\n",
    "greetingd=\"hllo\"\n",
    "print(greetingd, name)\n",
    "\n",
    "#another way of srage 2 function\n",
    "\n",
    "name=input(\"what is your name\")\n",
    "print(\"hello\", name) \n",
    "\n",
    "###3rd stage input function\n",
    "name= input(\"what is your name\")\n",
    "age=input(\"how old are you\")\n",
    "greeting=\"hello\"\n",
    "print(greeting, name, \",you are still young\")"
   ]
  },
  {
   "cell_type": "markdown",
   "id": "bd53a78b",
   "metadata": {},
   "source": [
    "# 07_Conditional_Logical_Operators\n",
    "    # logical operators are true/false//yes/no/1/0/\n",
    "    # equal to  ==\n",
    "    #  not equal to !=\n",
    "    # less than <\n",
    "    # greater than >\n",
    "    # less than and equal to <=\n",
    "    # greater than and equal to >="
   ]
  },
  {
   "cell_type": "code",
   "execution_count": null,
   "id": "574c966a",
   "metadata": {},
   "outputs": [],
   "source": [
    "#one way to put operators in code\n",
    "print(4==4)\n",
    "print(4!=4)\n",
    "print(4>3)\n",
    "print(3<6)\n",
    "print(3<=6)\n",
    "\n",
    "# applications of logical operators\n",
    "# brother t0 school example\n",
    "\n",
    "hamid_age=4\n",
    "age_at_school=5\n",
    "print(hamid_age==age_at_school)\n",
    "\n",
    "# 2nd wayinput fnctn and logical operator\n",
    "age_at_school=5\n",
    "hamid_age=input(\"how old is hamid\") # input function\n",
    "hamid_age=int(hamid_age)\n",
    "print(type(hamid_age))\n",
    "print(hamid_age==age_at_school) #logical operator"
   ]
  },
  {
   "cell_type": "markdown",
   "id": "e0db3278",
   "metadata": {},
   "source": [
    "# 08_Type_Conversion\n",
    "    # # x= 10              #integer\n",
    "    # # y=10.2              #float =integ*float\n",
    "    # # z=\"hello\"           #string\n",
    "    "
   ]
  },
  {
   "cell_type": "code",
   "execution_count": null,
   "id": "576c36e8",
   "metadata": {},
   "outputs": [],
   "source": [
    "# ###  implicit type conversion\n",
    "x=x+y\n",
    "print(x,\"type of x is:\", type(y))\n",
    "\n",
    "# ## explicit typenjjjj\n",
    "age=input(\"what is your age\")\n",
    "age=int(age)\n",
    "print(age,type(int(age)))\n",
    "\n",
    "##name\n",
    "name=input(\"what is your name\")\n",
    "print(name, type(str(name)))"
   ]
  },
  {
   "cell_type": "markdown",
   "id": "0ea9f6aa",
   "metadata": {},
   "source": [
    "# 09_If_Else_Elif"
   ]
  },
  {
   "cell_type": "code",
   "execution_count": null,
   "id": "d5b5a428",
   "metadata": {},
   "outputs": [],
   "source": [
    "# required age at school \n",
    "hamid_age=2\n",
    "required_age_at_school=5\n",
    "\n",
    "\n",
    "## can/can't go to school\n",
    "if hamid_age==required_age_at_school:\n",
    "    print(\"hamid can join school\")\n",
    "elif hamid_age > required_age_at_school:\n",
    "    print(\"hamid should join h scjool\")\n",
    "elif hamid_age==2:\n",
    "    print(\"care baby\")\n",
    "\n",
    "else:\n",
    "    print(\"hamid can not go to school or should join high class\")  "
   ]
  },
  {
   "cell_type": "markdown",
   "id": "1567f566",
   "metadata": {},
   "source": [
    "# 10_Functions"
   ]
  },
  {
   "cell_type": "code",
   "execution_count": null,
   "id": "121e1abb",
   "metadata": {},
   "outputs": [],
   "source": [
    "# direct writing\n",
    "from typing import Text\n",
    "\n",
    "print(\"Azeem \")\n",
    "print(\"Azeem \")\n",
    "print(\"Azeem \")\n",
    "print(\"Azeem \")\n",
    "print(\"Azeem \")\n",
    "print(\"Azeem \")\n",
    "\n",
    "## defining a Function (First way)\n",
    "\n",
    "def print_cds():\n",
    "    print(\"Azeem \")\n",
    "    print(\"Azeem \")\n",
    "    print(\"Azeem \")\n",
    "print_cds()\n",
    "\n",
    "## defining a function (second way)\n",
    "def print_cds():\n",
    "    Text= \"is it changed \"\n",
    "    print(Text)\n",
    "    print(Text)\n",
    "    print(Text)\n",
    "print_cds()\n",
    "\n",
    "# defining a function (third way)\n",
    "def print_cds(Text):\n",
    "    print(Text)\n",
    "    print(Text)\n",
    "    print(Text)\n",
    "print_cds(\"Azeem\")\n",
    "\n",
    "## defining a function with if elif else statement\n",
    "\n",
    "def school_calculator(age, text):\n",
    "    if age==5:\n",
    "        print(\"hamid can join the school\")\n",
    "    elif age>5:\n",
    "        print(\"hamid should go tohigherschool\")\n",
    "    else:\n",
    "        print(\"hamid is a baby\")\n",
    "school_calculator(2, \"hamid\")\n",
    "\n",
    "## defining a future  function (advance)\n",
    "def future_age(age):\n",
    "    new_age=age+20\n",
    "    return new_age\n",
    "    print(new_age)\n",
    "future_predicted_age= future_age(5)\n",
    "print(future_predicted_age)"
   ]
  },
  {
   "cell_type": "markdown",
   "id": "593c16c2",
   "metadata": {},
   "source": [
    "# 11_Loops"
   ]
  },
  {
   "cell_type": "code",
   "execution_count": null,
   "id": "0063943f",
   "metadata": {},
   "outputs": [],
   "source": [
    "#while and For loop (while= repeat until it recognizes)\n",
    "\n",
    "# 1- while loop\n",
    "x=0\n",
    "while (x<=   5):\n",
    "    print(x)\n",
    "    x=x+1\n",
    "    \n",
    "# 2- For Loop\n",
    "for x in range(5,11):\n",
    "    print(x)\n",
    "\n",
    "# 3- Arrays\n",
    "days= [\"mon\", \"tue\", \"wed\", \"thrus\", \"fri\",\n",
    "\"sat\", \"sun\" ]\n",
    "for d in days:\n",
    "    # if (d==\"fri\"):break #(loop stops)\n",
    "    if (d==\"fri\"): continue  # skips \n",
    "    print(d)"
   ]
  },
  {
   "cell_type": "markdown",
   "id": "28e34110",
   "metadata": {},
   "source": [
    "# 12_import_Libraries"
   ]
  },
  {
   "cell_type": "code",
   "execution_count": null,
   "id": "3433c03c",
   "metadata": {},
   "outputs": [],
   "source": [
    "# if you want to print the valu of pi\n",
    "import math\n",
    "print (\"the value of pi is\", math.pi)\n",
    "import statistics\n",
    "x=[150,250,350,450,550]\n",
    "print(statistics.mean(x))\n",
    "### important libraries numpy, pandas"
   ]
  },
  {
   "cell_type": "markdown",
   "id": "b18b52aa",
   "metadata": {},
   "source": [
    "# 13_Trouble_Shooting\n",
    "- there are two types eroors \n",
    "- 1= syntax error ===easy to remove also called as syntax error\n",
    "- 2= symantic errors ==== you have to read written script to find out errors python will not tell you the error place"
   ]
  },
  {
   "cell_type": "code",
   "execution_count": null,
   "id": "290e145a",
   "metadata": {},
   "outputs": [],
   "source": [
    "# print(\"we are learning python with ammar\")\n",
    "# print(25/0) ## runtime errorne\n",
    "name=\"azeem\"\n",
    "print(\"hello\"+name)   ##  symantic error most difficult error\n",
    "# trouble shooting is easy"
   ]
  },
  {
   "cell_type": "markdown",
   "id": "f59bf637",
   "metadata": {},
   "source": [
    "# 14_Important_Information\n",
    "    ##### installation\n",
    "    # command_line tool\n",
    "    # vs code and p[ython\n",
    "    # first line of code \n",
    "    # operation \n",
    "    # comments\n",
    "    # variables \n",
    "    # type conversions\n",
    "    # if, elif, else ]"
   ]
  },
  {
   "cell_type": "markdown",
   "id": "39dd509a",
   "metadata": {},
   "source": [
    "## Day First"
   ]
  },
  {
   "cell_type": "code",
   "execution_count": null,
   "id": "ccf08103",
   "metadata": {},
   "outputs": [],
   "source": [
    "# import library\n",
    "# steps involved in data visulization\n",
    "import seaborn as sns\n",
    "import matplotlib.pyplot as plt\n",
    "sns.set_theme(style=\"ticks\", color_codes= True)\n",
    "\n",
    "# import datasets ## yu can also iport your own data(in this step)\n",
    "kashti = sns.load_dataset(\"titanic\")\n",
    "# print(kashti)\n",
    "\n",
    "# plot basic design(4)\n",
    "P= sns.countplot(x=\"sex\", data= kashti)\n",
    "plt.show()\n",
    "## step 55\n",
    "P= sns.countplot(x=\"sex\", data= kashti, hue=\"embark_town\")\n",
    "plt.show()\n",
    "# ## step 6 tilitles\n",
    "P= sns.countplot(x=\"sex\", data= kashti, hue=\"class\")\n",
    "P.set_title(\"First Graph of life using Python\")\n",
    "plt.show()"
   ]
  },
  {
   "cell_type": "code",
   "execution_count": null,
   "id": "4e839d19",
   "metadata": {},
   "outputs": [],
   "source": [
    "# Data Visulization using meeting generated file\n",
    "# steps involved in data visulization\n",
    "import pandas as pd\n",
    "doctors=pd.read_csv(\"data_chilla.csv\")\n",
    "print(doctors)\n",
    "import seaborn as sns\n",
    "import matplotlib.pyplot as plt\n",
    "\n",
    "sns.set_theme(style=\"ticks\", color_codes=True)\n",
    "p=sns.countplot(x=\"Gender\", hue=\"Location\", data=doctors)\n",
    "p.set_title(\"is plot is correct\")\n",
    "plt.xlabel(\"population\")\n",
    "plt.ylabel(\"numbers\")\n",
    "plt.show()"
   ]
  },
  {
   "cell_type": "markdown",
   "id": "a80fcbd9",
   "metadata": {},
   "source": [
    "## Day Second and Practice\n",
    "- very first graph using python language by self\n",
    "- modified plot using python"
   ]
  },
  {
   "cell_type": "code",
   "execution_count": null,
   "id": "60ac46c3",
   "metadata": {},
   "outputs": [],
   "source": [
    "# very first graph using python language\n",
    "# catplot\n",
    "import seaborn as sns\n",
    "import matplotlib.pyplot as plt\n",
    "sns. set_theme(style=\"ticks\", color_codes=True)\n",
    "titanic = sns.load_dataset(\"titanic\")\n",
    "print(titanic)\n",
    "sns.catplot(x=\"sex\", y=\"fare\", hue=\"adult_male\", kind=\"bar\", data=titanic)\n",
    "plt.show()"
   ]
  },
  {
   "cell_type": "code",
   "execution_count": null,
   "id": "de63b829",
   "metadata": {},
   "outputs": [],
   "source": [
    "## very First Modified plot\n",
    "# scatter plot\n",
    "import seaborn as sns\n",
    "import matplotlib.pyplot as plt\n",
    "sns.set_theme(style=\"ticks\", color_codes=True)\n",
    "titanic = sns.load_dataset(\"titanic\")\n",
    "g=sns.FacetGrid(titanic, row=\"sibsp\", hue=\"class\")\n",
    "g=(g.map(plt.scatter, \"age\", \"fare\").add_legend())\n",
    "plt.show()"
   ]
  },
  {
   "cell_type": "markdown",
   "id": "5c72c7c5",
   "metadata": {},
   "source": [
    "# Day_3\n",
    "- data visulization "
   ]
  },
  {
   "cell_type": "code",
   "execution_count": null,
   "id": "7d13c0c8",
   "metadata": {},
   "outputs": [],
   "source": [
    "# import library\n",
    "# steps involved in data visulization\n",
    "import seaborn as sns\n",
    "import matplotlib.pyplot as plt\n",
    "sns.set_theme(style=\"ticks\", color_codes= True)\n",
    "\n",
    "# import datasets ## yu can also iport your own data(in this step)\n",
    "kashti = sns.load_dataset(\"titanic\")\n",
    "# print(kashti)\n",
    "\n",
    "# plot basic design(4)\n",
    "P= sns.countplot(x=\"sex\", data= kashti)\n",
    "plt.show()\n",
    "## step 55\n",
    "P= sns.countplot(x=\"sex\", data= kashti, hue=\"embark_town\")\n",
    "plt.show()\n",
    "# ## step 6 tilitles\n",
    "P= sns.countplot(x=\"sex\", data= kashti, hue=\"class\")\n",
    "P.set_title(\"First Graph of life using Python\")\n",
    "plt.show()"
   ]
  },
  {
   "cell_type": "markdown",
   "id": "eeb519f6",
   "metadata": {},
   "source": [
    "# day_4\n",
    "- iris learned during the class \n",
    "-- iris data set labelled by mysef"
   ]
  },
  {
   "cell_type": "code",
   "execution_count": null,
   "id": "07ab2bf2",
   "metadata": {},
   "outputs": [],
   "source": [
    "# import libraries\n",
    "import seaborn as sns\n",
    "import matplotlib.pyplot as plt\n",
    "## load dataset\n",
    "phool = sns.load_dataset(\"iris\")\n",
    "\n",
    "\n",
    "\n",
    "##draw a line plot\n",
    "sns.lineplot(x=\"sepal_length\", y=\"sepal_width\", data=phool)\n",
    "plt.title(\"phoolon ka plot\")\n",
    "sns.set_style(\"whitegrid\")#, {\"grid.color\": \"1\", \"grid.linestyle\": \":\"})\n",
    "plt.show()"
   ]
  },
  {
   "cell_type": "code",
   "execution_count": null,
   "id": "5ef1ece7",
   "metadata": {},
   "outputs": [],
   "source": [
    "#line plot from collected data set\n",
    "import pandas as pd\n",
    "homework=pd.read_csv(\"Chilla_data2_for_plots.csv\")\n",
    "print(homework)\n",
    "import seaborn as sns\n",
    "import matplotlib.pyplot as plt\n",
    "plt.figure(figsize=(6,4))\n",
    "sns.lineplot(x=\"Age\", y=\"Gender\", data=homework,)\n",
    "plt.title(\"Line Plot Representing Ages of participants\")\n",
    "plt.xlabel(\"Ages\")\n",
    "plt.ylabel(\"male/female\")\n",
    "sns.set_style(\"darkgrid\") #, {\"grid.color\": \".9\", \"grid.linestyle\": \":\"})\n",
    "plt.xlim(2)\n",
    "plt.ylim(1)\n",
    "plt.show()\n"
   ]
  },
  {
   "cell_type": "markdown",
   "id": "8a861df9",
   "metadata": {},
   "source": [
    "# Day_5\n",
    "-- Dhamak Khaiz Mawad"
   ]
  },
  {
   "cell_type": "code",
   "execution_count": null,
   "id": "43e05736",
   "metadata": {},
   "outputs": [],
   "source": [
    "import plotly.express as px\n",
    "df = px.data.iris()\n",
    "fig = px.scatter(df, x=\"sepal_width\", y=\"sepal_length\", color=\"species\")\n",
    "fig.show()"
   ]
  },
  {
   "cell_type": "code",
   "execution_count": null,
   "id": "e821256d",
   "metadata": {},
   "outputs": [],
   "source": [
    "import plotly.express as px\n",
    "df = px.data.iris()\n",
    "fig = px.scatter(df, x=\"sepal_width\", y=\"sepal_length\", color=\"species\", marginal_y=\"violin\",\n",
    "           marginal_x=\"box\", trendline=\"ols\", template=\"simple_white\")\n",
    "fig.show()"
   ]
  },
  {
   "cell_type": "code",
   "execution_count": null,
   "id": "8a3891ef",
   "metadata": {},
   "outputs": [],
   "source": [
    "import plotly.express as px\n",
    "data_canada = px.data.gapminder().query(\"country == 'Canada'\")\n",
    "fig = px.bar(data_canada, x='year', y='pop')\n",
    "fig.show()"
   ]
  },
  {
   "cell_type": "markdown",
   "id": "b4202fba",
   "metadata": {},
   "source": [
    "# plotly graphs of seld collected data"
   ]
  },
  {
   "cell_type": "code",
   "execution_count": null,
   "id": "c9731b49",
   "metadata": {},
   "outputs": [],
   "source": [
    "# import seaborn as sns\n",
    "import pandas as pd\n",
    "doctors=pd.read_csv(\"chilla_data.csv\")\n",
    "doctors\n",
    "# # import plotly.express as px\n",
    "# # import numpy as np\n",
    "# # import matplotlib.pyplot as plt\n",
    "# df = px.data.doctors()\n",
    "# fig = px.scatter(df, x=\"Gender\", y=\"Marital Status?\", color=\"What are you?\")\n",
    "# fig.show()"
   ]
  },
  {
   "cell_type": "code",
   "execution_count": null,
   "id": "304c231e",
   "metadata": {},
   "outputs": [],
   "source": [
    "import pandas as pd\n",
    "doctors=pd.read_csv(\"chilla_data.csv\")\n",
    "import seaborn as sns\n",
    "sns.set_theme(style=\"whitegrid\")\n",
    "\n",
    "# Load the example tips dataset\n",
    "doctors = sns.load_dataset(\"chilla_data\")\n",
    "\n",
    "# Draw a nested violinplot and split the violins for easier comparison\n",
    "sns.violinplot(data=chilla_data, x=\"Gender\", y=\"Marital Status?\", hue=\"What are you?\",\n",
    "               split=True, inner=\"quart\", linewidth=1,\n",
    "               palette={\"Yes\": \"b\", \"No\": \".85\"})\n",
    "sns.despine(left=True)"
   ]
  },
  {
   "cell_type": "markdown",
   "id": "1b6885df",
   "metadata": {},
   "source": [
    "## Day 7a Numpy\n",
    "- numerical Python (Intel MkL and Open BlAS)\n",
    "- "
   ]
  },
  {
   "cell_type": "code",
   "execution_count": null,
   "id": "da97da7f",
   "metadata": {},
   "outputs": [],
   "source": [
    "import numpy as np\n",
    "a = np.array([5,5,5,5,5])\n",
    "a\n",
    "type(a)"
   ]
  },
  {
   "cell_type": "code",
   "execution_count": null,
   "id": "36734bb0",
   "metadata": {
    "scrolled": true
   },
   "outputs": [],
   "source": [
    "#ists of arrays\n",
    "a =([[2, 2,2], [2,2,2],[2,2,2]])\n",
    "a"
   ]
  },
  {
   "cell_type": "code",
   "execution_count": null,
   "id": "891c725e",
   "metadata": {},
   "outputs": [],
   "source": [
    "import numpy as np\n",
    "a = np.array([1,2,3,4,5])\n",
    "a"
   ]
  },
  {
   "cell_type": "code",
   "execution_count": null,
   "id": "d845b64d",
   "metadata": {},
   "outputs": [],
   "source": [
    "b = np.zeros(5)\n",
    "b"
   ]
  },
  {
   "cell_type": "code",
   "execution_count": null,
   "id": "fed78448",
   "metadata": {},
   "outputs": [],
   "source": [
    "c = np.ones(3)\n",
    "c"
   ]
  },
  {
   "cell_type": "code",
   "execution_count": null,
   "id": "8fe07507",
   "metadata": {},
   "outputs": [],
   "source": [
    "e = np.arange(2, 60, 5)\n",
    "e"
   ]
  },
  {
   "cell_type": "code",
   "execution_count": null,
   "id": "fd251369",
   "metadata": {},
   "outputs": [],
   "source": [
    "h = np.linspace(0,100,num=9)\n",
    "h"
   ]
  },
  {
   "cell_type": "code",
   "execution_count": null,
   "id": "5acfb78d",
   "metadata": {},
   "outputs": [],
   "source": [
    "#int8\n",
    "#"
   ]
  },
  {
   "cell_type": "code",
   "execution_count": null,
   "id": "71eaebea",
   "metadata": {},
   "outputs": [],
   "source": [
    "a = np.zeros((3,4))\n",
    "a"
   ]
  },
  {
   "cell_type": "code",
   "execution_count": null,
   "id": "494e3358",
   "metadata": {},
   "outputs": [],
   "source": [
    "3-D array"
   ]
  },
  {
   "cell_type": "code",
   "execution_count": null,
   "id": "e6d9dac6",
   "metadata": {},
   "outputs": [],
   "source": [
    "c= np.arange(24).reshape(2,3,4)\n",
    "c"
   ]
  },
  {
   "cell_type": "markdown",
   "id": "0f30316f",
   "metadata": {},
   "source": [
    "# PANDAS \n",
    "- (Pannel Data Analysis)\n",
    "- used for data manipulation and data analysis"
   ]
  },
  {
   "cell_type": "markdown",
   "id": "63c669b7",
   "metadata": {},
   "source": [
    "- Time line\n",
    "- 1. 2008 development started\n",
    "- 2. 2009 become open source\n",
    "- 3. 1st Edition of *python for data analysis published* in 2012\n",
    "- 4. 2015 Pandas become a NumFOCUS sponserd project\n",
    "- 1. First in person core developer sprint 2018 "
   ]
  },
  {
   "cell_type": "markdown",
   "id": "b57601de",
   "metadata": {},
   "source": [
    "- we use because we can easily manipulate and analyse data\n",
    "- to tidy up our data and make our data usefull \n",
    "  # Types of DATA Analysis\n",
    "-  Descriptive Analytics : what happend?\n",
    "-  Diagnostic Analytics : why happend?\n",
    "-  Predicive Analytics : what is likely to happen in future\n",
    "-  Prescriptive Analytics : what is the best course of action to take?\n",
    "  "
   ]
  },
  {
   "cell_type": "markdown",
   "id": "8206eb14",
   "metadata": {},
   "source": [
    "# Different terms\n",
    "- Data frame  - worksheet\n",
    "- series      - columns\n",
    "- index       - row headings first column of a row\n",
    "- Row         - row\n",
    "- NaN         - empty cells missing values"
   ]
  },
  {
   "cell_type": "markdown",
   "id": "94489b21",
   "metadata": {},
   "source": [
    "# Merits\n",
    "- python library\n",
    "- data analysis and manipulation\n",
    "- data science\n",
    "- machine learning\n",
    "- if yourwork invove data you must use it\n",
    "- its free\n",
    "- load, prepare, read , model and analyze\n",
    "- join,merge, filter, reshape\n",
    "- data from different data bases and join in one\n",
    "- anything with data\n",
    "- datafeames= pandas data strucutres\n",
    "- can downoad data in excel\n",
    "- "
   ]
  },
  {
   "cell_type": "markdown",
   "id": "a706039f",
   "metadata": {},
   "source": [
    "- import libraries"
   ]
  },
  {
   "cell_type": "code",
   "execution_count": null,
   "id": "0746b221",
   "metadata": {},
   "outputs": [],
   "source": [
    "import pandas as pd\n",
    "import numpy as np"
   ]
  },
  {
   "cell_type": "code",
   "execution_count": null,
   "id": "55149706",
   "metadata": {},
   "outputs": [],
   "source": [
    "# object creation\n",
    "s = pd.Series([1,3, np.nan,5, 7, 8,9])\n",
    "s"
   ]
  },
  {
   "cell_type": "code",
   "execution_count": null,
   "id": "b26f4424",
   "metadata": {},
   "outputs": [],
   "source": [
    "dates = pd.date_range(\"20130101\", periods=20)\n",
    "dates"
   ]
  },
  {
   "cell_type": "code",
   "execution_count": null,
   "id": "36e5e238",
   "metadata": {},
   "outputs": [],
   "source": [
    "df = pd.DataFrame(np.random.randn(20, 4), index=dates, columns=list(\"ABCD\"))\n",
    "df"
   ]
  },
  {
   "cell_type": "code",
   "execution_count": null,
   "id": "f229049c",
   "metadata": {},
   "outputs": [],
   "source": [
    "df2 = pd.DataFrame(\n",
    "    {\n",
    "        \"A\":1.0,\n",
    "        \"B\":pd.Timestamp(\"20221101\"),\n",
    "        \"C\":pd.Series(1, index=list(range(4)), dtype=\"float32\"),\n",
    "        \"D\":np.array([3] * 4, dtype=\"int32\"),\n",
    "        \"E\":pd.Categorical([\"girl\", \"women\", \"girl\", \"women\"]),\n",
    "        \"F\":\"females\"\n",
    "    }\n",
    ")\n",
    "df2\n"
   ]
  },
  {
   "cell_type": "code",
   "execution_count": null,
   "id": "e9adb726",
   "metadata": {},
   "outputs": [],
   "source": [
    "df2.dtypes"
   ]
  },
  {
   "cell_type": "code",
   "execution_count": null,
   "id": "d1794819",
   "metadata": {},
   "outputs": [],
   "source": [
    "## how to view data in pandas \n",
    "df.head(2)"
   ]
  },
  {
   "cell_type": "code",
   "execution_count": null,
   "id": "86ab328b",
   "metadata": {},
   "outputs": [],
   "source": [
    "df.index"
   ]
  },
  {
   "cell_type": "code",
   "execution_count": null,
   "id": "249f7d32",
   "metadata": {},
   "outputs": [],
   "source": [
    "df.tail(2)"
   ]
  },
  {
   "cell_type": "code",
   "execution_count": null,
   "id": "cb389fe5",
   "metadata": {},
   "outputs": [],
   "source": [
    "# convert data to numpy\n",
    "df2.to_numpy()"
   ]
  },
  {
   "cell_type": "code",
   "execution_count": null,
   "id": "85be1ca4",
   "metadata": {},
   "outputs": [],
   "source": [
    "#converting to arrays\n",
    "df.to_numpy()"
   ]
  },
  {
   "cell_type": "code",
   "execution_count": null,
   "id": "01c9e699",
   "metadata": {},
   "outputs": [],
   "source": [
    "#describing\n",
    "df.describe()"
   ]
  },
  {
   "cell_type": "code",
   "execution_count": null,
   "id": "f57ee634",
   "metadata": {},
   "outputs": [],
   "source": [
    "# to transpose  data\n",
    "df2.T"
   ]
  },
  {
   "cell_type": "code",
   "execution_count": null,
   "id": "9a29d22f",
   "metadata": {},
   "outputs": [],
   "source": [
    "## sorting to save\n",
    "# df.sort_index(axis=0, ascending=True)\n",
    "df.sort_values(by=\"C\", ascending=True)"
   ]
  },
  {
   "cell_type": "code",
   "execution_count": null,
   "id": "390460c5",
   "metadata": {},
   "outputs": [],
   "source": [
    "# selection filtartion\n",
    "df[\"A\"]"
   ]
  },
  {
   "cell_type": "code",
   "execution_count": null,
   "id": "f343b77c",
   "metadata": {},
   "outputs": [],
   "source": [
    "## indexing row wise selection\n",
    "df[0:]"
   ]
  },
  {
   "cell_type": "code",
   "execution_count": null,
   "id": "ac0919eb",
   "metadata": {},
   "outputs": [],
   "source": [
    "## selecting a specific data\n",
    "df.loc[dates[15]]"
   ]
  },
  {
   "cell_type": "code",
   "execution_count": null,
   "id": "0cbb4cec",
   "metadata": {},
   "outputs": [],
   "source": [
    "## using multiple labels\n",
    "df.loc[:, [\"A\", \"B\"]]"
   ]
  },
  {
   "cell_type": "code",
   "execution_count": null,
   "id": "d402cb4a",
   "metadata": {},
   "outputs": [],
   "source": [
    "# data selection at very specific point\n",
    "df.loc[\"20130102\":\"20130104\", [\"A\", \"B\",\"C\"]]"
   ]
  },
  {
   "cell_type": "code",
   "execution_count": null,
   "id": "16381351",
   "metadata": {},
   "outputs": [],
   "source": [
    "# list inside a list\n",
    "df.loc[[\"20130102\",\"20130104\"], [\"A\", \"B\"]]"
   ]
  },
  {
   "cell_type": "code",
   "execution_count": null,
   "id": "ecf649b8",
   "metadata": {},
   "outputs": [],
   "source": [
    "df.loc[\"20130102\", [\"A\", \"B\",\"C\"]]"
   ]
  },
  {
   "cell_type": "code",
   "execution_count": null,
   "id": "62dee3cb",
   "metadata": {},
   "outputs": [],
   "source": [
    "#at secific index\n",
    "df.at[dates[0], \"A\"]"
   ]
  },
  {
   "cell_type": "code",
   "execution_count": null,
   "id": "b9f07622",
   "metadata": {},
   "outputs": [],
   "source": [
    "# indexing on base of position\n",
    "# df.iloc[3:10]\n",
    "df.iloc[0:10, :]\n",
    "# df.iloc[0:15,0:3]"
   ]
  },
  {
   "cell_type": "code",
   "execution_count": null,
   "id": "1f16f724",
   "metadata": {},
   "outputs": [],
   "source": [
    "df.iloc[:,0:2]"
   ]
  },
  {
   "cell_type": "code",
   "execution_count": null,
   "id": "e49c03d1",
   "metadata": {},
   "outputs": [],
   "source": [
    "# indexing with bolean operators\n",
    "# df[df[\"A\"]>0]\n",
    "# df[df[\"A\"]>1.5]\n",
    "df[df>0] # missing values function"
   ]
  },
  {
   "cell_type": "code",
   "execution_count": null,
   "id": "46062958",
   "metadata": {},
   "outputs": [],
   "source": [
    "## is in method \n",
    "df2 = df.copy()"
   ]
  },
  {
   "cell_type": "code",
   "execution_count": null,
   "id": "9c9a6d4c",
   "metadata": {},
   "outputs": [],
   "source": [
    "# concatenation or addition(adding another column)\n",
    "df2[\"E\"] = [\"one\",\"one\", \"two\",\"three\", \"four\", \"three\",\n",
    "\"one\",\"one\", \"two\",\"three\", \"four\", \"three\",\"one\",\"one\", \"two\",\"three\", \"four\", \"three\",\n",
    " \"four\", \"three\"]\n",
    "df2"
   ]
  },
  {
   "cell_type": "code",
   "execution_count": null,
   "id": "8975e014",
   "metadata": {},
   "outputs": [],
   "source": [
    "df2[\"mean\"]=[1.2,2.3,4.0,1.3,3.2,1.2,2.3,4.0,1.3,3.2,1.2,2.3,4.0,1.3,3.2,1.2,2.3,4.0,1.3,3.2]\n",
    "df2"
   ]
  },
  {
   "cell_type": "code",
   "execution_count": null,
   "id": "245e1e72",
   "metadata": {},
   "outputs": [],
   "source": [
    "## updating df2\n",
    "df2[\"new\"]=[1.2,2.3,4.0,1.3,3.2,1.2,2.3,4.0,1.3,3.2,1.2,2.3,4.0,1.3,3.2,1.2,2.3,4.0,1.3,3.2]\n",
    "df2\n",
    "df2 = df2.iloc[:, 0:4]\n",
    "df2"
   ]
  }
 ],
 "metadata": {
  "kernelspec": {
   "display_name": "Python 3 (ipykernel)",
   "language": "python",
   "name": "python3"
  },
  "language_info": {
   "codemirror_mode": {
    "name": "ipython",
    "version": 3
   },
   "file_extension": ".py",
   "mimetype": "text/x-python",
   "name": "python",
   "nbconvert_exporter": "python",
   "pygments_lexer": "ipython3",
   "version": "3.10.1"
  }
 },
 "nbformat": 4,
 "nbformat_minor": 5
}
