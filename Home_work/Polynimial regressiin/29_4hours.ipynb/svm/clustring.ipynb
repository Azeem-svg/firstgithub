{
 "cells": [
  {
   "cell_type": "markdown",
   "metadata": {},
   "source": [
    "# Difference b/w Accuracy, Precision and Recall score\n",
    "- **Precision** \n",
    "- is the ratio of correctly predicted positive observations to the total predicted positive observations. \n",
    "- **Recall**\n",
    "-  Recall is the ratio of correctly predicted positive observations to the all observations in actual class - yes\n",
    "-  **Accuracy**\n",
    "-  accuracy is the fraction of predictions our model got right. we can say that accuracy:\n",
    "-   Accuracy = Number of correct predictions Total number of predictions."
   ]
  },
  {
   "cell_type": "markdown",
   "metadata": {},
   "source": [
    "# Equation for optimized hyperplane in svm\n",
    "      ___W<sup>T</sup>X=0___"
   ]
  }
 ],
 "metadata": {
  "language_info": {
   "name": "python"
  },
  "orig_nbformat": 4
 },
 "nbformat": 4,
 "nbformat_minor": 2
}
