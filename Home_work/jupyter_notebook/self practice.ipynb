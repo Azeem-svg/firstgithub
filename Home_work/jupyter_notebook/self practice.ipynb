{
 "cells": [
  {
   "cell_type": "code",
   "execution_count": 1,
   "id": "8dfdd48b",
   "metadata": {},
   "outputs": [
    {
     "name": "stdout",
     "output_type": "stream",
     "text": [
      "AT-GTGAC-GATGC-GAT\n",
      "|  ||| | ||||  |||\n",
      "A-AGTG-CCGATG-TGAT\n",
      "  Score=12\n",
      "\n"
     ]
    }
   ],
   "source": [
    "#performing global pairwise seq alignment using Biopython\n",
    "from Bio import pairwise2\n",
    "from Bio.pairwise2 import format_alignment\n",
    "# seq to be aligned\n",
    "seq_1 = \"ATGTGACGATGCGAT\"\n",
    "seq_2 = \"AAGTGCCGATGTGAT\"\n",
    "# The names of a;ignment functions in this module follow the convention alignment<alignment type>XX\n",
    "# here <alignment type> is either \"global\"\n",
    "# and XX is a 2 character code  indicating the parameters it takes\n",
    "alignments = pairwise2.align.globalxx(seq_1, seq_2)\n",
    "print(format_alignment(*alignments[0]))"
   ]
  },
  {
   "cell_type": "code",
   "execution_count": 4,
   "id": "08586bde",
   "metadata": {},
   "outputs": [
    {
     "ename": "IndentationError",
     "evalue": "expected an indented block (Temp/ipykernel_18156/1616684621.py, line 18)",
     "output_type": "error",
     "traceback": [
      "\u001b[1;36m  File \u001b[1;32m\"C:\\Users\\Haier\\AppData\\Local\\Temp/ipykernel_18156/1616684621.py\"\u001b[1;36m, line \u001b[1;32m18\u001b[0m\n\u001b[1;33m    with open(out_file,\"w\") as txt:\u001b[0m\n\u001b[1;37m                                   ^\u001b[0m\n\u001b[1;31mIndentationError\u001b[0m\u001b[1;31m:\u001b[0m expected an indented block\n"
     ]
    }
   ],
   "source": [
    "from Bio import Entrez\n",
    "from Bio import SeqIO\n",
    "Entrez.email = \"763936021a@gmail.com\"\n",
    "###### fetching accession from ncbi##\n",
    "database = \"nucleotide\"\n",
    "search_term = \"myglobin homo sapiens\"\n",
    "id_type = \"acc\"\n",
    "ret_max = 10\n",
    "acc_handle = Entrez.esearch(db=database, term=search_term, retmax=ret_max,idtype=id_type)\n",
    "record= Entrez.read(acc_handle)\n",
    "retrieved_ids = record[\"IdList\"]\n",
    "print(\"Retrieved accesion ids: \", retrieved_ids)\n",
    "### fetching accession ids fro ncbi###\n",
    "# ###downloading fasta for the fetched idss###\n",
    "out_file = r\" C:\\Users\\Haier\\OneDrive\\Desktop\\python_ammar.py\"\n",
    "fasta_handle = Entrez.efetch(db=\"nucleotide\", id= retrieved_ids, rettype=\"fasta\", retmode=\"test\")\n",
    "###writing fasta records to out file##\n",
    "with open(out_file,\"w\") as fW:"
   ]
  },
  {
   "cell_type": "code",
   "execution_count": null,
   "id": "37af4f9d",
   "metadata": {},
   "outputs": [],
   "source": []
  }
 ],
 "metadata": {
  "kernelspec": {
   "display_name": "Python 3 (ipykernel)",
   "language": "python",
   "name": "python3"
  },
  "language_info": {
   "codemirror_mode": {
    "name": "ipython",
    "version": 3
   },
   "file_extension": ".py",
   "mimetype": "text/x-python",
   "name": "python",
   "nbconvert_exporter": "python",
   "pygments_lexer": "ipython3",
   "version": "3.9.7"
  }
 },
 "nbformat": 4,
 "nbformat_minor": 5
}
