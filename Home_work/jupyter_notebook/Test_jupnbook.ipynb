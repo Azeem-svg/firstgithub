{
 "cells": [
  {
   "cell_type": "markdown",
   "id": "af71d50a",
   "metadata": {},
   "source": [
    "# python ka 40 \n",
    "## how to use jupyter note book\n",
    "### basics of python\n",
    "1- my first program\n"
   ]
  },
  {
   "cell_type": "code",
   "execution_count": null,
   "id": "390ec172",
   "metadata": {},
   "outputs": [],
   "source": [
    "print(2+3)\n",
    "print(\"hello world\")\n",
    "print(\"we are lreaning python with ammar\")"
   ]
  },
  {
   "cell_type": "markdown",
   "id": "5eb674d9",
   "metadata": {},
   "source": [
    "**02_operators**\n",
    "# spacesare meaning less in operators"
   ]
  },
  {
   "cell_type": "code",
   "execution_count": null,
   "id": "74af1eef",
   "metadata": {},
   "outputs": [],
   "source": [
    "print(2+3)\n",
    "print(3-1)\n",
    "print(6/2)\n",
    "print(2*3)\n",
    "print(13%2)\n",
    "print(6//2)\n",
    "\n",
    "print(2**3)\n",
    "print(3**2/2*3/3+6-4)\n"
   ]
  },
  {
   "cell_type": "markdown",
   "id": "19fa4362",
   "metadata": {},
   "source": [
    "*pemdas (parenthesis exponents multiply divide addition subtraction)\n",
    "msequence will be left to right mdas*"
   ]
  },
  {
   "cell_type": "markdown",
   "id": "9a608bc4",
   "metadata": {},
   "source": [
    "**03_strings*P"
   ]
  },
  {
   "cell_type": "code",
   "execution_count": null,
   "id": "3ae4348c",
   "metadata": {},
   "outputs": [],
   "source": [
    "print(\"hello world\")\n",
    "print(\"we are lreaning python with ammar\")\n",
    "print('test for single quotes')\n",
    "print(\"test for double quotes\")\n",
    "print('''test for triple quotes''') \n",
    "\n",
    "print(\"  what's up  ?\")\n"
   ]
  },
  {
   "cell_type": "markdown",
   "id": "a6b54081",
   "metadata": {},
   "source": [
    "*any text in excel (single/double commaor 3 qutation marks are strings*"
   ]
  },
  {
   "cell_type": "markdown",
   "id": "225231f8",
   "metadata": {},
   "source": [
    "**04_comments**"
   ]
  },
  {
   "cell_type": "code",
   "execution_count": null,
   "id": "461bb7fc",
   "metadata": {},
   "outputs": [],
   "source": [
    "print(\"how are you?\")\n",
    "print (\"we are learning python with ammar\")\n",
    "print(2+6) "
   ]
  },
  {
   "cell_type": "markdown",
   "id": "b1db7d8a",
   "metadata": {},
   "source": [
    "*trl+/ to comment out*"
   ]
  },
  {
   "cell_type": "markdown",
   "id": "48ee94ac",
   "metadata": {},
   "source": [
    "**05_variables**"
   ]
  },
  {
   "cell_type": "code",
   "execution_count": null,
   "id": "86419ad6",
   "metadata": {},
   "outputs": [],
   "source": [
    "x=5 \n",
    "print(x)\n",
    "y=\"we are learning pyton drtuui\"\n",
    "print(y)\n",
    "x=123\n",
    "print(x)\n",
    "x=x+123+67\n",
    "print(x)\n",
    "# types of variables\n",
    "type(x)\n",
    "print(type(x))\n",
    "print(type(y))\n",
    "fruit_basket=8\n",
    "fruit_basket=\"mangoes\"\n",
    "print(type(fruit_basket))\n",
    "print(fruit_basket)"
   ]
  },
  {
   "cell_type": "markdown",
   "id": "f2d0c858",
   "metadata": {},
   "source": [
    "*variables are objects containig specific values*\n",
    "*# #rules to assign  a variable or a object in a variables\n",
    "*1= variable should contain letters numbers or underscores\n",
    "*2=do not start with numbers (ex=2y)\n",
    "*spaces are not allowed\n",
    "*do not use python key worda in function (help google \"key words in python\")\n",
    "*short and descriptive variable names \n",
    "*case sensitivity (lower and upper case) always use lower case leters\n",
    "# del fruit_basket to delete something"
   ]
  },
  {
   "cell_type": "markdown",
   "id": "f870379b",
   "metadata": {},
   "source": [
    "**06_input_variables**"
   ]
  },
  {
   "cell_type": "code",
   "execution_count": null,
   "id": "7958231d",
   "metadata": {},
   "outputs": [],
   "source": [
    "fruit_basket=\"mangoes\"\n",
    "print(fruit_basket)\n",
    "\n",
    "fruit_basket=input(\"which is your fruit\")\n",
    "# print(fruit_basket)\n",
    "name=input(\"what is your name\")\n",
    "greetingd=\"hllo\"\n",
    "print(greetingd, name)\n",
    "\n",
    "#another way of srage 2 fnction\n",
    "\n",
    "name=input(\"what is your name\")\n",
    "print(\"hello\", name) \n",
    "#3rd stage input fnctn\n",
    "name= input(\"what is your name\")\n",
    "age=input(\"how old are you\")\n",
    "greeting=\"hello\"\n",
    "print(greeting, name, \",you are still young\")"
   ]
  },
  {
   "cell_type": "markdown",
   "id": "1f1e4168",
   "metadata": {},
   "source": [
    "*1-input function*\n",
    "*input fntion 2nd stage*\n"
   ]
  },
  {
   "cell_type": "markdown",
   "id": "bf503a9a",
   "metadata": {},
   "source": [
    "**07_conditional_logcal_operators**"
   ]
  },
  {
   "cell_type": "code",
   "execution_count": null,
   "id": "12d6521c",
   "metadata": {},
   "outputs": [],
   "source": [
    "hamid_age=4\n",
    "age_at_school=5\n",
    "print(hamid_age==age_at_school)\n",
    "2nd wayinput fnctn and logical operator\n",
    "age_at_school=5\n",
    "hamid_age=input(\"how old is hamid\") \n",
    "hamid_age=int(hamid_age)\n",
    "print(type(hamid_age))\n",
    "print(hamid_age==age_at_school) "
   ]
  },
  {
   "cell_type": "markdown",
   "id": "58b8d9cf",
   "metadata": {},
   "source": [
    "*# ;ogical operators are true/false//yes/no/1/0/== equal to  ==*\n",
    "*not equal to !=*\n",
    "*less than <*\n",
    "*greater than >*\n",
    "*less than and equal to <=*\n",
    "*greater than and equal to >=*\n",
    "*4 eual to 4 print(4==4) print(4!=4)print(4>3)print(3<6)print(3<=6)*"
   ]
  },
  {
   "cell_type": "markdown",
   "id": "6bb1f2f8",
   "metadata": {},
   "source": [
    "**08_type_conversion**"
   ]
  },
  {
   "cell_type": "code",
   "execution_count": null,
   "id": "87888758",
   "metadata": {},
   "outputs": [],
   "source": [
    "x= 10              \n",
    "y=10.2             \n",
    "z=\"hello\"          \n",
    "x=x*y\n",
    "\n",
    "print(type(x))\n",
    "     x= 10             \n",
    "y=10.2              \n",
    "z=\"hello\"           \n",
    " x=x+y\n",
    "print(x,\"type of x is:\", type(y))\n",
    "age=input(\"what is your age\")\n",
    " age=int(age)\n",
    "print(age,type(int(age)))\n",
    "\n",
    "name=input(\"what is your name\")\n",
    "print(name, type(str(name)))"
   ]
  },
  {
   "cell_type": "markdown",
   "id": "5040786d",
   "metadata": {},
   "source": [
    "**09_if_else_elif**"
   ]
  },
  {
   "cell_type": "code",
   "execution_count": null,
   "id": "a07dc8de",
   "metadata": {},
   "outputs": [],
   "source": [
    "hamid_age=2\n",
    "required_age_at_school=5\n",
    "if hamid_age==required_age_at_school:\n",
    "    print(\"hamid can join school\")\n",
    "elif hamid_age > required_age_at_school:\n",
    "    print(\"hamid should join h scjool\")\n",
    "elif hamid_age==2:\n",
    "    print(\"care baby\")\n",
    "else:\n",
    "    print(\"hamid can not go to school or shpuld join high clas\")    "
   ]
  },
  {
   "cell_type": "markdown",
   "id": "a493af67",
   "metadata": {},
   "source": [
    "**10_function_def**"
   ]
  },
  {
   "cell_type": "code",
   "execution_count": null,
   "id": "0238c176",
   "metadata": {},
   "outputs": [],
   "source": [
    "def print_cds():\n",
    "    print(\"azeem\")\n",
    "    print(\"azeem \")\n",
    "    print(\"azeem \")\n",
    "print_cds()\n",
    "def print_cds():\n",
    "    Text= \"is it changed \"\n",
    "    print(Text)\n",
    "    print(Text)\n",
    "    print(Text)\n",
    "print_cds()\n",
    "def print_cds(Text):\n",
    "    print(Text)\n",
    "    print(Text)\n",
    "    print(Text)\n",
    "print_cds(\"shahid\")\n",
    "    if age==5:\n",
    "        print(\"hamid can join the school\")\n",
    "    elif age>5:\n",
    "        print(\"hamid should go tohigherschool\")\n",
    "    else:\n",
    "        print(\"hamid is a baby\")\n",
    "        school_calculator(2, \"hamid\")\n",
    "def future_age(age):\n",
    "    new_age=age+20\n",
    "    return new_age\n",
    "    print(new_age)\n",
    "future_predicted_age= future_age(5)\n",
    "print(future_predicted_age)"
   ]
  },
  {
   "cell_type": "markdown",
   "id": "1464aaf8",
   "metadata": {},
   "source": [
    "**11_loops**"
   ]
  },
  {
   "cell_type": "code",
   "execution_count": null,
   "id": "02cea6e0",
   "metadata": {},
   "outputs": [],
   "source": [
    "x=0\n",
    "while (x<=   5):\n",
    "    print(x)\n",
    "    x=x+1\n",
    "\n",
    "for x in range(5,11):\n",
    "    print(x)\n",
    "days= [\"mon\", \"tue\", \"wed\", \"thrus\", \"fri\",\n",
    "\"sat\", \"sun\" ]\n",
    "for d in days:\n",
    "        if (d==\"fri\"): continue \n",
    "    print(d)"
   ]
  },
  {
   "cell_type": "markdown",
   "id": "47035fbd",
   "metadata": {},
   "source": [
    "**12_imports_libaraies**"
   ]
  },
  {
   "cell_type": "code",
   "execution_count": null,
   "id": "3ca9a89a",
   "metadata": {},
   "outputs": [],
   "source": [
    "# if you want to print the valu eof pi\n",
    "import math\n",
    "print (\"the value of pi is\", math.pi)\n",
    "import statistics\n",
    "x=[150,250,350,450,550]\n",
    "print(statistics.mean(x))\n",
    "### important libraries numpy, pandas"
   ]
  },
  {
   "cell_type": "markdown",
   "id": "3658c9f2",
   "metadata": {},
   "source": [
    "**13_trouble_shooting**"
   ]
  },
  {
   "cell_type": "code",
   "execution_count": null,
   "id": "a976b4c1",
   "metadata": {},
   "outputs": [],
   "source": [
    "# print(\"we are learning python with ammar\")\n",
    "# print(25/0) ## runtime errorne\n",
    "name=\"azeem\"\n",
    "print(\"hello\"+name)   ##  symantic error most difficult error\n",
    "# trouble shooting is easy"
   ]
  },
  {
   "cell_type": "markdown",
   "id": "4fd4030d",
   "metadata": {},
   "source": [
    "**important_information**"
   ]
  },
  {
   "cell_type": "markdown",
   "id": "18eb4813",
   "metadata": {},
   "source": [
    "#### installation\n",
    "#### command_line tool\n",
    "### vs code and p[ython\n",
    "# first line of code \n",
    "# operation \n",
    "# comments\n",
    "# variables \n",
    "# type conversions\n",
    "# if, elif, else ]"
   ]
  },
  {
   "cell_type": "code",
   "execution_count": null,
   "id": "63e78d2e",
   "metadata": {},
   "outputs": [],
   "source": []
  }
 ],
 "metadata": {
  "kernelspec": {
   "display_name": "Python 3 (ipykernel)",
   "language": "python",
   "name": "python3"
  },
  "language_info": {
   "codemirror_mode": {
    "name": "ipython",
    "version": 3
   },
   "file_extension": ".py",
   "mimetype": "text/x-python",
   "name": "python",
   "nbconvert_exporter": "python",
   "pygments_lexer": "ipython3",
   "version": "3.9.7"
  }
 },
 "nbformat": 4,
 "nbformat_minor": 5
}
