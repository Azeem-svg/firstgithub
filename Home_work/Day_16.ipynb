{
 "cells": [
  {
   "cell_type": "markdown",
   "metadata": {},
   "source": [
    "# Day_16\n",
    "- Choosing a right statistical method\n"
   ]
  },
  {
   "cell_type": "markdown",
   "metadata": {},
   "source": [
    "## Main Objectives\n",
    "- this will enhance your learning\n",
    "- choosing a right statistical method\n",
    "- Do's and Dont's of statistics\n",
    "- Reliable resuts\n",
    "- Paper revisions with Proof of statistical test(wh question)\n",
    "- Making data visulaization\n",
    "- Interpreting the results\n"
   ]
  },
  {
   "cell_type": "markdown",
   "metadata": {},
   "source": [
    "1. there are two types of tests\n",
    "   - Parametric tests\n",
    "      - more reliable results\n",
    "      - First we have to meet the assumptions\n",
    "    - Non para metric tests\n",
    "        - less reliable results\n",
    "        - calculates the ranks of the data\n",
    "        - no need to make assumptions\n",
    "  "
   ]
  },
  {
   "cell_type": "markdown",
   "metadata": {},
   "source": [
    "1. Step 1 Normality test\n",
    "    - tests to be used\n",
    "     1. Shapiro wilk test\n",
    "      - Specific Reliable\n",
    "     2. Kolmogorov Test\n",
    "        - General (Less reliable)"
   ]
  },
  {
   "cell_type": "markdown",
   "metadata": {},
   "source": [
    "2. Step 2 Homogeniety test\n",
    "   - the variance of the variable in data are equal\n",
    "- test tobe used are\\\n",
    "  --LEVENE'S TESTS--"
   ]
  },
  {
   "cell_type": "markdown",
   "metadata": {},
   "source": [
    "3. Step 3 Purpose of data analysis\n",
    "   - know the purpose of your research question\n",
    "   - different examples"
   ]
  },
  {
   "cell_type": "markdown",
   "metadata": {},
   "source": [
    "# Two types of Purposes\n",
    "1. Comparison\n",
    "   - also called as differences\n",
    "2. Relationship\n",
    "   - connction\n",
    "  "
   ]
  },
  {
   "cell_type": "markdown",
   "metadata": {},
   "source": [
    "- if puepose is comparison then you at least have two groups to compare\n",
    "- examples\n",
    "- Male vs Female\n",
    "- control group vs treatment groups\n",
    "- grouping individuals by color preferences\n"
   ]
  },
  {
   "cell_type": "markdown",
   "metadata": {},
   "source": [
    "- if the purpose is relationship (finding a connection)\n",
    "- examples\n",
    "- connection/correaltion/causation / prediction"
   ]
  },
  {
   "cell_type": "markdown",
   "metadata": {},
   "source": [
    "4. Data Type\n",
    "   - know the type of your data you are working with\n",
    "- There are two types of data\n",
    "  1. Categorical Data\n",
    "   - qualtative\n",
    "   - non numerical meaning \n",
    "   - represnted in texts e.g charactors and factors\n",
    "  2. Continuous Data\n",
    "   - quantitative\n",
    "   - Numercal\n",
    "   - Mostly represented in numbers\n",
    "   - e.g numerical variables int and float"
   ]
  },
  {
   "cell_type": "markdown",
   "metadata": {},
   "source": [
    "- # if you work with quality of data then data must be categorical\n",
    "- # if you work with rhe quantity of data then data must be continuous\n",
    "- most important"
   ]
  },
  {
   "cell_type": "markdown",
   "metadata": {},
   "source": [
    "5. step5 statistical test\n",
    "   - choose a statistical test from three main families\n",
    "     1. Chi squared test family\n",
    "        - purpose is comparison and data used is categorcical type\n",
    "        - only (Chi-Squared)\n",
    "     2. t-Test/ANOVA \n",
    "        - purpose: comparisons\n",
    "        - data : categorical and continuous\n",
    "        - t-test\n",
    "      3. Correlation\n",
    "        - purpose: relationship\n",
    "        - data: continuous only (correlation)"
   ]
  },
  {
   "cell_type": "markdown",
   "metadata": {},
   "source": [
    "# when and where to use?\n",
    "1. Chi squared test family\n",
    "   # Two Types\n",
    "   1. chi square test of homogeniety\n",
    "   2. chi square test of independence \n",
    "- when to use ?\n",
    "- nothing effects this \n",
    "- can be used with any number levels of groups\n",
    "  ## but you must remember the purpose and data type"
   ]
  },
  {
   "cell_type": "markdown",
   "metadata": {},
   "source": [
    "# when and where to use?\n",
    "2. test/ANOVA\n",
    "  1.  one sample t-test(for one sample group with a known mwan)\n",
    "  2. Two Sample t-test:\n",
    "    - Un-paired t-Test (Two different Groups)\n",
    "    - Paired t- Test (Same Group Twice)\n",
    "3. ANOVA (Analysis of Variance) 3+ levels or groups are involved\n",
    "    - one way ANOVA   (Even one of group is significant you will get significant results,\n",
    "                       but does'nt tell you which one:,)\n",
    "    - Two Way ANOVA\n",
    "    - Repeated measures of ANOVA (3+ paired groups, scale up of Pairedt-Test)"
   ]
  },
  {
   "cell_type": "markdown",
   "metadata": {},
   "source": [
    "# when and where to use?\n",
    "3. Correlation\n",
    "    - purpose:relationship\n",
    "    - data:continuous only (correlation)\n",
    "  Types\n",
    "  1. Pearson's Correlation (one Independent and one dependent variable)\n",
    "  2. Regression: (one Independent and one dependent variable)\n",
    "- Correlation: tell us how closly connected two variables are?\n",
    "- \"\"is food a predictor of weight gain\"\"\n",
    "- Regression: Tells us a specific mathematicall equation that describe the relationship.\n",
    "- (this helps us to find the data points not measured yet)\n",
    "- e.g. missing values can be predictedlike this\n",
    "- "
   ]
  },
  {
   "cell_type": "markdown",
   "metadata": {},
   "source": [
    "####Assumption about your data (these tests trusts you)\\ \n",
    "--importantnotes--\\\n",
    "- your data is normally distributed\n",
    "- or follow a gaussian distribution\n",
    "- non reliable results\n",
    "- if you do not follow assumption and breaks the trusts of three families , they will not happy with you"
   ]
  },
  {
   "cell_type": "markdown",
   "metadata": {},
   "source": [
    "# assumption not met your data is normal\n",
    "- check normality\n",
    "- check homogeniety\n",
    "- "
   ]
  },
  {
   "cell_type": "code",
   "execution_count": null,
   "metadata": {},
   "outputs": [],
   "source": [
    "## Main Objectives"
   ]
  },
  {
   "cell_type": "markdown",
   "metadata": {},
   "source": []
  }
 ],
 "metadata": {
  "language_info": {
   "name": "python"
  },
  "orig_nbformat": 4
 },
 "nbformat": 4,
 "nbformat_minor": 2
}
