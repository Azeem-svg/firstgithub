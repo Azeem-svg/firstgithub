{
 "cells": [
  {
   "cell_type": "markdown",
   "metadata": {},
   "source": [
    "1. **supervised learning types**\\\n",
    "   - classification (categorical)\n",
    "   - regression (numerical)\n",
    "   - generally\n",
    "   - --input data----->training model and learning patterns---->prediction---->output and reports"
   ]
  },
  {
   "cell_type": "markdown",
   "metadata": {},
   "source": [
    "# algorithms used in supervised learning  (self study also)\n",
    "- Logistic Regression\n",
    "- K-Nearest neighbour (k-nn)\n",
    "- Support vector machine (svm)\n",
    "- Kernel svm\n",
    "- naive bayes\n",
    "- Decision tree classification\n",
    "- Random Forest classification\n"
   ]
  },
  {
   "cell_type": "markdown",
   "metadata": {},
   "source": [
    "**Random Forest classification**\\\n",
    "The random forest is a classification algorithm consisting of many decisions trees. It uses bagging and feature randomness when building each individual tree to try to create an uncorrelated forest of trees whose prediction by committee is more accurate than that of any individual tree."
   ]
  },
  {
   "cell_type": "markdown",
   "metadata": {},
   "source": [
    "**Decision tree classification**\\\n",
    "Decision Tree - Classification. Decision tree builds classification or regression models in the form of a tree structure. It breaks down a dataset into smaller and smaller subsets while at the same time an associated decision tree is incrementally developed.\\\n",
    " Decision trees can handle both categorical and numerical data"
   ]
  },
  {
   "cell_type": "markdown",
   "metadata": {},
   "source": [
    "**naive bayes**\\\n",
    "In statistics, naive Bayes classifiers are a family of simple \"probabilistic classifiers\" based on applying Bayes' theorem with strong independence assumptions between the features. They are among the simplest Bayesian network models, but coupled with kernel density estimation, they can achieve higher accuracy levels."
   ]
  },
  {
   "cell_type": "markdown",
   "metadata": {},
   "source": [
    "**Kernel svm**\\\n",
    "SVM algorithms use a set of mathematical functions that are defined as the kernel. The function of kernel is to take data as input and transform it into the required form. Different SVM algorithms use different types of kernel functions. These functions can be different types. For example linear, nonlinear, polynomial, __radial basis function (RBF)__, and sigmoid."
   ]
  },
  {
   "cell_type": "markdown",
   "metadata": {},
   "source": [
    "**Logistic Regression**\\\n",
    "Logistic regression is a supervised learning classification algorithm used to predict the probability of a target variable. The nature of target or dependent variable is ___**dichotomous**___, which means there would be only two possible classes.\\\n",
    "In simple words, the dependent variable is binary in nature having data coded as either 1 (stands for success/yes) or 0 (stands for failure/no).\\\n",
    "Mathematically, a logistic regression model predicts P(Y=1) as a function of X. It is one of the simplest ML algorithms that can be used for various classification problems such as spam detection, Diabetes prediction, cancer detection etc.\n",
    "\n"
   ]
  },
  {
   "cell_type": "markdown",
   "metadata": {},
   "source": [
    "**Support vector machine**\\\n",
    "In machine learning, support-vector machines (SVMs, also support-vector networks) are supervised learning models with associated learning algorithms that analyze data for classification and regression analysis.\\\n",
    "SVMs are one of the most robust prediction methods, being based on statistical learning frameworks"
   ]
  },
  {
   "cell_type": "markdown",
   "metadata": {},
   "source": [
    "**K-Nearest neighbour (k-nn)**\\\n",
    "In statistics, the k-nearest neighbors algorithm (k-NN) is a non-parametric classification method  used for classification and regression. In both cases, the input consists of the k closest training examples in a data set"
   ]
  },
  {
   "cell_type": "markdown",
   "metadata": {},
   "source": [
    "2. **unsupervised Learning/clustring**\n",
    "   - No supervision\n",
    "   - no teacher\n",
    "   - self learning\n",
    "   - find patterns by it self\n",
    "- --no input data----->training model and learning patterns---->prediction---->output and reports"
   ]
  },
  {
   "cell_type": "markdown",
   "metadata": {},
   "source": [
    " **unsupervised Learning algorithms**\\\n",
    "   - K- Means clustring\n",
    "   - Hierarchical clustring\n",
    "   - Probablistic clustring"
   ]
  },
  {
   "cell_type": "markdown",
   "metadata": {},
   "source": [
    "**Probablistic clustring**\\\n",
    "In probabilistic clustering the assignment of points to clusters is “soft”, in the sense that the membership of a data point x in a cluster Ck is given as a probability, denoted by pk(x).\\\n",
    "These are subjective probabilities, indicating strength of belief in the event in question."
   ]
  },
  {
   "cell_type": "markdown",
   "metadata": {},
   "source": [
    "**Hierarchical clustring**\\\n",
    "Hierarchical clustering, also known as hierarchical cluster analysis, is an algorithm that groups similar objects into groups called clusters. The endpoint is a set of clusters, where each cluster is distinct from each other cluster, and the objects within each cluster are broadly similar to each other."
   ]
  },
  {
   "cell_type": "markdown",
   "metadata": {},
   "source": [
    "**K- Means clustring**\\\n",
    "Kmeans algorithm is an iterative algorithm that tries to partition the dataset into Kpre-defined distinct non-overlapping subgroups (clusters) where each data point belongs to only one group.\\\n",
    "The less variation we have within clusters, the more homogeneous (similar) the data points are within the same cluster."
   ]
  },
  {
   "cell_type": "markdown",
   "metadata": {},
   "source": [
    "3. **SEmi supervised**\\\n",
    "   - some labelled data and some unlabelled data\n",
    "  **mixture of 1 and 2**\\\n",
    "  - some data is labelled whilw some is not\n",
    "  - we use both supervised and unsupervised algorithms (usually used for empty values)\n"
   ]
  },
  {
   "cell_type": "markdown",
   "metadata": {},
   "source": [
    "4. # **Reinforcement learning** (tukka learning)\n",
    "   - Hit and trial learn\n",
    "   - Learn from mistakes \n",
    "   - reward and punishment rules\n",
    "   - prediction based on reward and punishment\n",
    "   - depends on feedback\n",
    "   - --->input data(but not a learning data)---->training model and learning data by itself"
   ]
  },
  {
   "cell_type": "markdown",
   "metadata": {},
   "source": [
    "**reinforcement Learning algorithms**\n",
    "- Model free reinforcement learning\n",
    "   1. Policy optimization\n",
    "   2. Q-learning\n",
    "- Model based reinforcement learning\n",
    "    1. learn the model  (model based approach)\n",
    "    2. given the model  (system based approach)"
   ]
  },
  {
   "cell_type": "markdown",
   "metadata": {},
   "source": [
    "**Model based reinforcement learning**\\\n",
    "Reinforcement learning systems can make decisions in one of two ways. In the model-based approach, a system uses a predictive model of the world to ask questions of the form “what will happen if I do x?” to choose the best x1.\\\n"
   ]
  },
  {
   "cell_type": "markdown",
   "metadata": {},
   "source": [
    "**Model free reinforcement learning**\\\n",
    "In reinforcement learning (RL), a model-free algorithm (as opposed to a model-based one) is an algorithm which does not use the transition probability distribution (and the reward function) associated with the Markov decision process (MDP), which, in RL, represents the problem to be solved.\\\n",
    "**Policy optimization**\\\n",
    "Policy optimization methods are centered around the policy, the function that maps the agent's state to its next action. These methods view reinforcement learning as a numerical optimization problem where we optimize the expected reward with respect to the policy's parameters.\\\n",
    "**Q-learning**\\\n",
    "Q-learning is a model-free reinforcement learning algorithm to learn the value of an action in a particular state. It does not require a model of the environment (hence \"model-free\"), and it can handle problems with stochastic transitions and rewards without requiring adaptations."
   ]
  },
  {
   "cell_type": "markdown",
   "metadata": {},
   "source": [
    "# basic libraries\n",
    "- pip install scikit-learn"
   ]
  }
 ],
 "metadata": {
  "interpreter": {
   "hash": "b7d95939eae62cdea6b739d07bb236281dd0d7119eb266cc14aa0a0fe5f4b3f2"
  },
  "kernelspec": {
   "display_name": "Python 3.10.1 64-bit",
   "language": "python",
   "name": "python3"
  },
  "language_info": {
   "codemirror_mode": {
    "name": "ipython",
    "version": 3
   },
   "file_extension": ".py",
   "mimetype": "text/x-python",
   "name": "python",
   "nbconvert_exporter": "python",
   "pygments_lexer": "ipython3",
   "version": "3.10.1"
  },
  "orig_nbformat": 4
 },
 "nbformat": 4,
 "nbformat_minor": 2
}
